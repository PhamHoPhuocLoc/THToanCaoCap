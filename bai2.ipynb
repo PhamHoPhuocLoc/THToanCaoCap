{
  "nbformat": 4,
  "nbformat_minor": 0,
  "metadata": {
    "colab": {
      "name": "bai2.ipynb",
      "provenance": [],
      "authorship_tag": "ABX9TyMN/XDjolkNLYGNgDh7RmFR",
      "include_colab_link": true
    },
    "kernelspec": {
      "name": "python3",
      "display_name": "Python 3"
    },
    "language_info": {
      "name": "python"
    }
  },
  "cells": [
    {
      "cell_type": "markdown",
      "metadata": {
        "id": "view-in-github",
        "colab_type": "text"
      },
      "source": [
        "<a href=\"https://colab.research.google.com/github/PhamHoPhuocLoc/THToanCaoCap/blob/main/bai2.ipynb\" target=\"_parent\"><img src=\"https://colab.research.google.com/assets/colab-badge.svg\" alt=\"Open In Colab\"/></a>"
      ]
    },
    {
      "cell_type": "markdown",
      "source": [
        "bai10a"
      ],
      "metadata": {
        "id": "e6w0xgIVFtDY"
      }
    },
    {
      "cell_type": "code",
      "execution_count": 3,
      "metadata": {
        "colab": {
          "base_uri": "https://localhost:8080/",
          "height": 37
        },
        "id": "H_R60b1BnqMF",
        "outputId": "b1f88890-3f34-4d9b-a0cc-88ad01da9778"
      },
      "outputs": [
        {
          "output_type": "execute_result",
          "data": {
            "text/latex": "$\\displaystyle -\\infty$",
            "text/plain": [
              "-oo"
            ]
          },
          "metadata": {},
          "execution_count": 3
        }
      ],
      "source": [
        "from sympy import Limit , Symbol , S\n",
        "x = Symbol('x')\n",
        "Limit(1/x, x, 0,dir='-').doit()"
      ]
    },
    {
      "cell_type": "code",
      "source": [
        "from sympy import Limit , Symbol , S\n",
        "x = Symbol('x')\n",
        "Limit(1/x, x, 0,dir='+').doit()"
      ],
      "metadata": {
        "colab": {
          "base_uri": "https://localhost:8080/",
          "height": 37
        },
        "id": "Bf2diu_1xweq",
        "outputId": "5b83b5e4-e04c-4ff7-e16f-31534c30ae64"
      },
      "execution_count": 7,
      "outputs": [
        {
          "output_type": "execute_result",
          "data": {
            "text/latex": "$\\displaystyle \\infty$",
            "text/plain": [
              "oo"
            ]
          },
          "metadata": {},
          "execution_count": 7
        }
      ]
    },
    {
      "cell_type": "markdown",
      "source": [
        "bai10b"
      ],
      "metadata": {
        "id": "F0yruczBF4G_"
      }
    },
    {
      "cell_type": "code",
      "source": [
        "  from sympy import Limit ,Symbol , sin\n",
        "  x = Symbol('x')\n",
        "  Limit(sin(x)/x, x,0).doit()"
      ],
      "metadata": {
        "colab": {
          "base_uri": "https://localhost:8080/",
          "height": 37
        },
        "id": "HPIcXOFNzvUv",
        "outputId": "4bcf7259-ba3f-4832-b90a-73a2f4242cc3"
      },
      "execution_count": 12,
      "outputs": [
        {
          "output_type": "execute_result",
          "data": {
            "text/latex": "$\\displaystyle 1$",
            "text/plain": [
              "1"
            ]
          },
          "metadata": {},
          "execution_count": 12
        }
      ]
    },
    {
      "cell_type": "markdown",
      "source": [
        "bai11"
      ],
      "metadata": {
        "id": "o49xKJllF7uY"
      }
    },
    {
      "cell_type": "code",
      "source": [
        "  from sympy import Limit , Symbol , sin , S\n",
        "  x = Symbol ('x')\n",
        "  t=Limit(x*sin(1/x), x, S.Infinity)"
      ],
      "metadata": {
        "id": "t218aJlo2H1N"
      },
      "execution_count": 29,
      "outputs": []
    },
    {
      "cell_type": "markdown",
      "source": [
        "bai13"
      ],
      "metadata": {
        "id": "91JTL4-6F-vH"
      }
    },
    {
      "cell_type": "code",
      "source": [
        "from sympy import Limit , Symbol \n",
        "t = Symbol('t')\n",
        "St = 5*t**2 + 2*t + 8\n",
        "\n",
        "t1 = Symbol('t1')\n",
        "delta_t = Symbol('delta_t')\n",
        "\n",
        "St1 = St.subs({t: t1})\n",
        "St1_delta = St.subs({t: t1 + delta_t})\n",
        "Limit((St1_delta-St1)/delta_t, delta_t, 0).doit()"
      ],
      "metadata": {
        "colab": {
          "base_uri": "https://localhost:8080/",
          "height": 39
        },
        "id": "mmbpCa1-Cu2q",
        "outputId": "4f2968a8-caa6-4ff6-fd49-271bc708f295"
      },
      "execution_count": 25,
      "outputs": [
        {
          "output_type": "execute_result",
          "data": {
            "text/latex": "$\\displaystyle 10 t_{1} + 2$",
            "text/plain": [
              "10*t1 + 2"
            ]
          },
          "metadata": {},
          "execution_count": 25
        }
      ]
    },
    {
      "cell_type": "markdown",
      "source": [
        "bai12"
      ],
      "metadata": {
        "id": "a5MvIo-AGAsF"
      }
    },
    {
      "cell_type": "code",
      "source": [
        "  from sympy import Symbol,Limit,S\n",
        "  p = Symbol('p',positive=True)\n",
        "  r = Symbol('r',positive=True)\n",
        "  t = Symbol('t',positive=True)\n",
        "  n = Symbol('n',positive=True)\n",
        "  Limit(p*(1+r/n)**(n*t), n, S.Infinity).doit()"
      ],
      "metadata": {
        "colab": {
          "base_uri": "https://localhost:8080/",
          "height": 39
        },
        "id": "uUJnJGpgExtq",
        "outputId": "59cf6f94-b54f-4fdc-ca8f-c936ae1d5d7e"
      },
      "execution_count": 28,
      "outputs": [
        {
          "output_type": "execute_result",
          "data": {
            "text/latex": "$\\displaystyle p e^{r t}$",
            "text/plain": [
              "p*exp(r*t)"
            ]
          },
          "metadata": {},
          "execution_count": 28
        }
      ]
    }
  ]
}