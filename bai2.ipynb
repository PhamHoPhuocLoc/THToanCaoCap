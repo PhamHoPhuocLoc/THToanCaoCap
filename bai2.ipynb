{
  "nbformat": 4,
  "nbformat_minor": 0,
  "metadata": {
    "colab": {
      "name": "bai2.ipynb",
      "provenance": [],
      "authorship_tag": "ABX9TyNvRM8mYOex8KPPjZGhFAfK",
      "include_colab_link": true
    },
    "kernelspec": {
      "name": "python3",
      "display_name": "Python 3"
    },
    "language_info": {
      "name": "python"
    }
  },
  "cells": [
    {
      "cell_type": "markdown",
      "metadata": {
        "id": "view-in-github",
        "colab_type": "text"
      },
      "source": [
        "<a href=\"https://colab.research.google.com/github/PhamHoPhuocLoc/THToanCaoCap/blob/main/bai2.ipynb\" target=\"_parent\"><img src=\"https://colab.research.google.com/assets/colab-badge.svg\" alt=\"Open In Colab\"/></a>"
      ]
    },
    {
      "cell_type": "code",
      "execution_count": 3,
      "metadata": {
        "colab": {
          "base_uri": "https://localhost:8080/",
          "height": 37
        },
        "id": "H_R60b1BnqMF",
        "outputId": "b1f88890-3f34-4d9b-a0cc-88ad01da9778"
      },
      "outputs": [
        {
          "output_type": "execute_result",
          "data": {
            "text/latex": "$\\displaystyle -\\infty$",
            "text/plain": [
              "-oo"
            ]
          },
          "metadata": {},
          "execution_count": 3
        }
      ],
      "source": [
        "from sympy import Limit , Symbol , S\n",
        "x = Symbol('x')\n",
        "Limit(1/x, x, 0,dir='-').doit()"
      ]
    },
    {
      "cell_type": "code",
      "source": [
        "from sympy import Limit , Symbol , S\n",
        "x = Symbol('x')\n",
        "Limit(1/x, x, 0,dir='+').doit()"
      ],
      "metadata": {
        "colab": {
          "base_uri": "https://localhost:8080/",
          "height": 37
        },
        "id": "Bf2diu_1xweq",
        "outputId": "5b83b5e4-e04c-4ff7-e16f-31534c30ae64"
      },
      "execution_count": 7,
      "outputs": [
        {
          "output_type": "execute_result",
          "data": {
            "text/latex": "$\\displaystyle \\infty$",
            "text/plain": [
              "oo"
            ]
          },
          "metadata": {},
          "execution_count": 7
        }
      ]
    },
    {
      "cell_type": "code",
      "source": [
        "  from sympy import Limit ,Symbol , sin\n",
        "  x = Symbol('x')\n",
        "  Limit(sin(x)/x, x,0).doit()"
      ],
      "metadata": {
        "colab": {
          "base_uri": "https://localhost:8080/",
          "height": 37
        },
        "id": "HPIcXOFNzvUv",
        "outputId": "4bcf7259-ba3f-4832-b90a-73a2f4242cc3"
      },
      "execution_count": 12,
      "outputs": [
        {
          "output_type": "execute_result",
          "data": {
            "text/latex": "$\\displaystyle 1$",
            "text/plain": [
              "1"
            ]
          },
          "metadata": {},
          "execution_count": 12
        }
      ]
    }
  ]
}