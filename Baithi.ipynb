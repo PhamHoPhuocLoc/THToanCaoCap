{
  "nbformat": 4,
  "nbformat_minor": 0,
  "metadata": {
    "colab": {
      "name": "Baithi.ipynb",
      "provenance": [],
      "authorship_tag": "ABX9TyPzUWZr6g0ahiWSx29fedmM",
      "include_colab_link": true
    },
    "kernelspec": {
      "name": "python3",
      "display_name": "Python 3"
    },
    "language_info": {
      "name": "python"
    }
  },
  "cells": [
    {
      "cell_type": "markdown",
      "metadata": {
        "id": "view-in-github",
        "colab_type": "text"
      },
      "source": [
        "<a href=\"https://colab.research.google.com/github/PhamHoPhuocLoc/THToanCaoCap/blob/main/Baithi.ipynb\" target=\"_parent\"><img src=\"https://colab.research.google.com/assets/colab-badge.svg\" alt=\"Open In Colab\"/></a>"
      ]
    },
    {
      "cell_type": "markdown",
      "source": [
        ""
      ],
      "metadata": {
        "id": "-NIWK6UofRS-"
      }
    },
    {
      "cell_type": "markdown",
      "source": [
        "câu 2.2"
      ],
      "metadata": {
        "id": "rtHbSGreeJnp"
      }
    },
    {
      "cell_type": "code",
      "source": [
        "from sympy import Derivative, Symbol\n",
        "x=Symbol('x')\n",
        "f=(2*x-1)/(x+2)\n",
        "Derivative(f, x). doit()"
      ],
      "metadata": {
        "colab": {
          "base_uri": "https://localhost:8080/",
          "height": 58
        },
        "id": "ULZc-PQ4eJCu",
        "outputId": "1501fbdc-1ba3-4a53-dde7-632887897b7a"
      },
      "execution_count": 11,
      "outputs": [
        {
          "output_type": "execute_result",
          "data": {
            "text/plain": [
              "2/(x + 2) - (2*x - 1)/(x + 2)**2"
            ],
            "text/latex": "$\\displaystyle \\frac{2}{x + 2} - \\frac{2 x - 1}{\\left(x + 2\\right)^{2}}$"
          },
          "metadata": {},
          "execution_count": 11
        }
      ]
    },
    {
      "cell_type": "markdown",
      "source": [
        "câu 3.3"
      ],
      "metadata": {
        "id": "ZT5Egu-CYDwb"
      }
    },
    {
      "cell_type": "code",
      "execution_count": 9,
      "metadata": {
        "colab": {
          "base_uri": "https://localhost:8080/",
          "height": 37
        },
        "id": "0aXF3lYDX6CE",
        "outputId": "6a805230-2159-4c13-ed0c-5a40a9886fbb"
      },
      "outputs": [
        {
          "output_type": "execute_result",
          "data": {
            "text/plain": [
              "0"
            ],
            "text/latex": "$\\displaystyle 0$"
          },
          "metadata": {},
          "execution_count": 9
        }
      ],
      "source": [
        "from sympy import Symbol ,limit\n",
        "x =  Symbol(\"x\")\n",
        "limit(x*x*sin(1/2), x, 0)"
      ]
    },
    {
      "cell_type": "markdown",
      "source": [
        "câu 3.5"
      ],
      "metadata": {
        "id": "f1gzSgsSZtNS"
      }
    },
    {
      "cell_type": "code",
      "source": [
        "from sympy import Symbol, limit\n",
        "x= Symbol('x')\n",
        "limit((1+x+x*x+x*x*x)/(1+x), x, 0, dir='+'). doit()"
      ],
      "metadata": {
        "colab": {
          "base_uri": "https://localhost:8080/",
          "height": 37
        },
        "id": "isCe5_QMexrc",
        "outputId": "a5153741-5c0f-474f-dc4e-3469baa4500c"
      },
      "execution_count": 15,
      "outputs": [
        {
          "output_type": "execute_result",
          "data": {
            "text/plain": [
              "1"
            ],
            "text/latex": "$\\displaystyle 1$"
          },
          "metadata": {},
          "execution_count": 15
        }
      ]
    }
  ]
}